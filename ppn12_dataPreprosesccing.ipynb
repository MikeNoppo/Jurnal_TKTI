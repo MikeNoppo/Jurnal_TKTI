{
 "cells": [
  {
   "cell_type": "code",
   "execution_count": 1,
   "metadata": {},
   "outputs": [],
   "source": [
    "import pandas as pd\n",
    "import re\n",
    "from Sastrawi.StopWordRemover.StopWordRemoverFactory import StopWordRemoverFactory\n",
    "from Sastrawi.Stemmer.StemmerFactory import StemmerFactory\n",
    "import emoji"
   ]
  },
  {
   "cell_type": "code",
   "execution_count": 2,
   "metadata": {},
   "outputs": [],
   "source": [
    "df = pd.read_csv('combined_tweets/data_tweets_kotor.csv')"
   ]
  },
  {
   "cell_type": "markdown",
   "metadata": {},
   "source": [
    "# Kamus Slang indonesia dan steaming word"
   ]
  },
  {
   "cell_type": "code",
   "execution_count": 3,
   "metadata": {},
   "outputs": [],
   "source": [
    "slang_dict = {\n",
    "    \"@\": \"di\", \"abis\": \"habis\", \"ad\": \"ada\", \"adlh\": \"adalah\", \"afaik\": \"as far as i know\", \"ahaha\": \"haha\", \"aj\": \"saja\", \n",
    "    \"ajep-ajep\": \"dunia gemerlap\", \"ak\": \"saya\", \"akika\": \"aku\", \"akkoh\": \"aku\", \"akuwh\": \"aku\", \"alay\": \"norak\", \"alow\": \"halo\", \n",
    "    \"ambilin\": \"ambilkan\", \"ancur\": \"hancur\", \"anjrit\": \"anjing\", \"anter\": \"antar\", \"ap2\": \"apa-apa\", \"apasih\": \"apa sih\", \"apes\": \"sial\", \n",
    "    \"aps\": \"apa\", \"aq\": \"saya\", \"aquwh\": \"aku\", \"asbun\": \"asal bunyi\", \"aseekk\": \"asyik\", \"asekk\": \"asyik\", \"asem\": \"asam\",\"dlm\":\"dalam\",\n",
    "    \"aspal\": \"asli tetapi palsu\", \"astul\": \"asal tulis\", \"ato\": \"atau\", \"au ah\": \"tidak mau tahu\", \"awak\": \"saya\", \"ay\": \"sayang\", \"ayank\": \"sayang\", \n",
    "    \"b4\": \"sebelum\", \"bakalan\": \"akan\", \"bandes\": \"bantuan desa\", \"bangedh\": \"banget\", \"banpol\": \"bantuan polisi\", \"banpur\": \"bantuan tempur\", \n",
    "    \"basbang\": \"basi\", \"bcanda\": \"bercanda\", \"bdg\": \"bandung\", \"begajulan\": \"nakal\", \"beliin\": \"belikan\", \"bencong\": \"banci\", \"bentar\": \"sebentar\", \n",
    "    \"ber3\": \"bertiga\", \"beresin\": \"membereskan\", \"bete\": \"bosan\", \"beud\": \"banget\", \"bg\": \"abang\", \"bgmn\": \"bagaimana\", \"bgt\": \"banget\", \"bijimane\": \n",
    "    \"bagaimana\", \"bintal\": \"bimbingan mental\", \"bkl\": \"akan\", \"bknnya\": \"bukannya\", \"blegug\": \"bodoh\", \"blh\": \"boleh\", \"bln\": \"bulan\", \"blum\": \"belum\", \n",
    "    \"bnci\": \"benci\", \"bnran\": \"yang benar\", \"bodor\": \"lucu\", \"bokap\": \"ayah\", \"boker\": \"buang air besar\", \"bokis\": \"bohong\", \"boljug\": \"boleh juga\", \n",
    "    \"bonek\": \"bocah nekat\", \"boyeh\": \"boleh\", \"br\": \"baru\", \"brg\": \"bareng\", \"bro\": \"saudara laki-laki\", \"bru\": \"baru\", \"bs\": \"bisa\", \"bsen\": \"bosan\", \n",
    "    \"bt\": \"buat\", \"btw\": \"ngomong-ngomong\", \"buaya\": \"tidak setia\", \"bubbu\": \"tidur\", \"bubu\": \"tidur\", \"bumil\": \"ibu hamil\", \"bw\": \"bawa\", \"bwt\": \"buat\", \n",
    "    \"byk\": \"banyak\", \"byrin\": \"bayarkan\", \"cabal\": \"sabar\", \"cadas\": \"keren\", \"calo\": \"makelar\", \"can\": \"belum\", \"capcus\": \"pergi\", \"caper\": \"cari perhatian\", \n",
    "    \"Blm\": \"belum\", \"Gw\":\"saya\", \"lo\": \"kamu\",\"Gak\": \"tidak\",\"bae\":\"saja\",\"ttg\":\"tentang\",\"drmana\":\"darimana\",\"dri\":\"dari\",\"skrng\":\"sekarang\",\"kyk\":\"kayak\",\"yutub\":\"youtube\",\"gmn\":\"gimana\",\"udh\":\"udah\",\"mslhnya\":\"masalahnya\",\"yg\":\"yang\",\n",
    "    \"ce\": \"cewek\", \"cekal\": \"cegah tangkal\", \"cemen\": \"penakut\", \"cengengesan\": \"tertawa\", \"cepet\": \"cepat\", \"cew\": \"cewek\", \"chuyunk\": \"sayang\", \"cimeng\": \"ganja\", \"cipika cipiki\": \"cium pipi kanan cium pipi kiri\", \"ciyh\": \"sih\", \"ckepp\": \"cakep\", \n",
    "    \"ckp\": \"cakep\", \"cmiiw\": \"correct me if i'm wrong\", \"cmpur\": \"campur\", \"cong\": \"banci\", \"conlok\": \"cinta lokasi\", \"cowwyy\": \"maaf\", \"cp\": \"siapa\", \"cpe\": \"capek\", \"cppe\": \"capek\", \"cucok\": \"cocok\", \"cuex\": \"cuek\", \"cumi\": \"Cuma miscall\", \"cups\": \"culun\", \"curanmor\": \"pencurian kendaraan bermotor\", \"curcol\": \"curahan hati colongan\", \"cwek\": \"cewek\", \"cyin\": \"cinta\", \"d\": \"di\", \"dah\": \"deh\", \"dapet\": \"dapat\", \"de\": \"adik\", \"dek\": \"adik\", \"demen\": \"suka\", \"deyh\": \"deh\", \"dgn\": \"dengan\", \"diancurin\": \"dihancurkan\", \"dimaafin\": \"dimaafkan\", \"dimintak\": \"diminta\", \"disono\": \"di sana\", \"dket\": \"dekat\", \"dkk\": \"dan kawan-kawan\", \"dll\": \"dan lain-lain\", \"dlu\": \"dulu\", \"dngn\": \"dengan\", \"dodol\": \"bodoh\", \"doku\": \"uang\", \"dongs\": \"dong\", \"dpt\": \"dapat\", \"dri\": \"dari\", \"drmn\": \"darimana\", \"drtd\": \"dari tadi\", \"dst\": \"dan seterusnya\", \"dtg\": \"datang\", \"duh\": \"aduh\", \"duren\": \"durian\", \"ed\": \"edisi\", \"egp\": \"emang gue pikirin\", \"eke\": \"aku\", \"elu\": \"kamu\", \"emangnya\": \"memangnya\", \"emng\": \"memang\", \"endak\": \"tidak\", \"enggak\": \"tidak\", \"envy\": \"iri\", \"ex\": \"mantan\", \"fax\": \"facsimile\", \"fifo\": \"first in first out\", \"folbek\": \"follow back\", \"fyi\": \"sebagai informasi\", \"gaada\": \"tidak ada uang\", \"gag\": \"tidak\", \"gaje\": \"tidak jelas\", \"gak papa\": \"tidak apa-apa\", \"gan\": \"juragan\", \"gaptek\": \"gagap teknologi\", \"gatek\": \"gagap teknologi\", \"gawe\": \"kerja\", \"gbs\": \"tidak bisa\", \"gebetan\": \"orang yang disuka\", \"geje\": \"tidak jelas\", \n",
    "    \"gepeng\": \"gelandangan dan pengemis\", \"ghiy\": \"lagi\", \"gile\": \"gila\", \"gimana\": \"bagaimana\", \"gino\": \"gigi nongol\", \"githu\": \"gitu\", \"gj\": \"tidak jelas\", \"gmana\": \"bagaimana\", \"gn\": \"begini\", \"goblok\": \"bodoh\", \"golput\": \"golongan putih\", \"gowes\": \"mengayuh sepeda\", \"gpny\": \"tidak punya\", \"gr\": \"gede rasa\", \"gretongan\": \"gratisan\", \"gtau\": \"tidak tahu\", \"gua\": \"saya\", \"guoblok\": \"goblok\", \"gw\": \"saya\", \"ha\": \"tertawa\", \"haha\": \"tertawa\", \"hallow\": \"halo\", \"hankam\": \"pertahanan dan keamanan\", \"hehe\": \"he\", \"helo\": \"halo\", \"hey\": \"hai\", \"hlm\": \"halaman\", \"hny\": \"hanya\", \"hoax\": \"isu bohong\", \"hr\": \"hari\", \"hrus\": \"harus\", \"hubdar\": \"perhubungan darat\", \"huff\": \"mengeluh\", \"hum\": \"rumah\", \"humz\": \"rumah\", \"ilang\": \"hilang\", \"ilfil\": \"tidak suka\", \"imho\": \"in my humble opinion\", \"imoetz\": \"imut\", \"item\": \"hitam\", \"itungan\": \"hitungan\", \"iye\": \"iya\", \"ja\": \"saja\", \"jadiin\": \"jadi\", \"jaim\": \"jaga image\", \"jayus\": \"tidak lucu\", \"jdi\": \"jadi\", \"jem\": \"jam\", \"jga\": \"juga\", \"jgnkan\": \"jangankan\", \"jir\": \"anjing\", \"jln\": \"jalan\", \"jomblo\": \"tidak punya pacar\", \"jubir\": \"juru bicara\", \"jutek\": \"galak\", \"k\": \"ke\", \"kab\": \"kabupaten\", \"kabor\": \"kabur\", \"kacrut\": \"kacau\", \"kadiv\": \"kepala divisi\", \"kagak\": \"tidak\", \"kalo\": \"kalau\", \"kampret\": \"sialan\", \"kamtibmas\": \"keamanan dan ketertiban masyarakat\", \"kamuwh\": \"kamu\", \"kanwil\": \"kantor wilayah\", \"karna\": \"karena\", \"kasubbag\": \"kepala subbagian\", \"katrok\": \"kampungan\", \"kayanya\": \n",
    "    \"kayaknya\",\"wkwkw\": \"[tertawa]\", \"drpd\": \"daripada\", \"ndasmu\": \"[sensor]\", \"kg\": \"kilogram\",\"th\": \"tahun\", \"3t\": \"3T\",\"trs\":\"terus\",\"gk\":\"tidak\",\"gpp\":\"tidak apa-apa\",\"gmn\":\"bagaimana\",\"uda\":\"udah\",\n",
    "\n",
    "    \"ajg\":\"anjing\",\n",
    "\n",
    "    #sensor kata kasar\n",
    "    \"ndasmu\":\"[sensor]\", \"anjing\": \"[sensor]\", \"bangsat\": \"[sensor]\"\n",
    "}"
   ]
  },
  {
   "cell_type": "code",
   "execution_count": 4,
   "metadata": {},
   "outputs": [],
   "source": [
    "lemmatization_dict = {\n",
    "    \"didik\": \"pendidikan\", \"bijak\": \"kebijakan\", \"layan\": \"layanan\",\n",
    "    \"jangkau\": \"terjangkau\", \"menteri\": \"menteri\", \"kritisi\": \"kritik\",\"anggar\" : \"anggaran\",\"kendara\":\"kendaraan\",\"jabat\":\"penjabat\",\"lapang\":\"lapangan\",\n",
    "}\n",
    "\n",
    "technical_terms = {\n",
    "    \"pph\": \"pajak_penghasilan\", \"bruto\": \"bruto\", \"angkutan\": \"angkutan\",\n",
    "    \"pasal 15\": \"pasal_15\", \"penghasilan\": \"penghasilan\", \"jasa\": \"jasa\",\n",
    "    \"laut\": \"laut\", \"logistik\": \"logistik\", \"nasional\": \"nasional\",\n",
    "}\n"
   ]
  },
  {
   "cell_type": "markdown",
   "metadata": {},
   "source": [
    "# Preprocessing data"
   ]
  },
  {
   "cell_type": "code",
   "execution_count": 5,
   "metadata": {},
   "outputs": [],
   "source": [
    "def clean_tweet(text):\n",
    "    try:\n",
    "        # 1. Case folding (ubah ke huruf kecil)\n",
    "        text = text.lower()\n",
    "\n",
    "        # 2. Hapus URL, mention, hashtag\n",
    "        text = re.sub(r'http\\S+|www\\S+|https\\S+', '', text, flags=re.MULTILINE)\n",
    "        text = re.sub(r'@\\w+', '', text)\n",
    "        text = re.sub(r'#\\w+', '', text)\n",
    "\n",
    "        # 3. Tangkap \"PPN 12%\" SEBELUM menghapus karakter khusus\n",
    "        text = re.sub(\n",
    "            r'(?i)\\bppn\\s*12\\s*%+\\b',  # Pola regex untuk semua variasi\n",
    "            'ppn12_persen ', \n",
    "            text\n",
    "        )\n",
    "\n",
    "        # 4. Hapus karakter khusus (kecuali underscore dan angka)\n",
    "        text = re.sub(r'[^\\w\\s]', ' ', text)\n",
    "\n",
    "        # 5. Konversi emoji ke teks\n",
    "        text = emoji.demojize(text, delimiters=(\"[\", \"]\"))\n",
    "\n",
    "        # 6. Normalisasi slang\n",
    "        words = text.split()\n",
    "        text = ' '.join([slang_dict[word] if word in slang_dict else word for word in words])\n",
    "\n",
    "        # 7. Handle negasi\n",
    "        text = re.sub(r'\\b(ga|gak|ngga|tdk)\\s+', r'tidak_', text)\n",
    "\n",
    "        # 8. Stopword removal\n",
    "        factory = StopWordRemoverFactory()\n",
    "        stopword = factory.create_stop_word_remover()\n",
    "        text = stopword.remove(text)\n",
    "\n",
    "        # 9. Pertahankan istilah teknis (termasuk \"ppn12_persen\")\n",
    "        technical_terms.update({\"ppn12_persen\": \"ppn12_persen\"})\n",
    "        for term, replacement in technical_terms.items():\n",
    "            text = re.sub(r'\\b' + re.escape(term) + r'\\b', replacement, text)\n",
    "\n",
    "        # 10. Stemming dengan kamus kustom\n",
    "        factory = StemmerFactory()\n",
    "        stemmer = factory.create_stemmer()\n",
    "        words = text.split()\n",
    "        cleaned_words = []\n",
    "        for word in words:\n",
    "            if word in technical_terms.values():\n",
    "                cleaned_words.append(word)\n",
    "            else:\n",
    "                cleaned_words.append(stemmer.stem(word))\n",
    "        text = ' '.join(cleaned_words)\n",
    "\n",
    "        # 11. Perbaiki hasil stemming dengan lemmatization_dict\n",
    "        words = text.split()\n",
    "        text = ' '.join([lemmatization_dict[word] if word in lemmatization_dict else word for word in words])\n",
    "\n",
    "        # 12. Post-processing akhir\n",
    "        text = re.sub(r'\\s+', ' ', text).strip()\n",
    "        return text\n",
    "    except:\n",
    "        return \"[error]\""
   ]
  },
  {
   "cell_type": "code",
   "execution_count": 6,
   "metadata": {},
   "outputs": [],
   "source": [
    "df['cleaned_text'] = df['full_text'].apply(clean_tweet)"
   ]
  },
  {
   "cell_type": "code",
   "execution_count": 7,
   "metadata": {},
   "outputs": [],
   "source": [
    "clean_df = df[['created_at', 'username', 'full_text' ,'cleaned_text']]"
   ]
  },
  {
   "cell_type": "code",
   "execution_count": 8,
   "metadata": {},
   "outputs": [
    {
     "data": {
      "text/html": [
       "<div>\n",
       "<style scoped>\n",
       "    .dataframe tbody tr th:only-of-type {\n",
       "        vertical-align: middle;\n",
       "    }\n",
       "\n",
       "    .dataframe tbody tr th {\n",
       "        vertical-align: top;\n",
       "    }\n",
       "\n",
       "    .dataframe thead th {\n",
       "        text-align: right;\n",
       "    }\n",
       "</style>\n",
       "<table border=\"1\" class=\"dataframe\">\n",
       "  <thead>\n",
       "    <tr style=\"text-align: right;\">\n",
       "      <th></th>\n",
       "      <th>created_at</th>\n",
       "      <th>username</th>\n",
       "      <th>full_text</th>\n",
       "      <th>cleaned_text</th>\n",
       "    </tr>\n",
       "  </thead>\n",
       "  <tbody>\n",
       "    <tr>\n",
       "      <th>0</th>\n",
       "      <td>Sun Feb 23 01:07:08 +0000 2025</td>\n",
       "      <td>babyportgas</td>\n",
       "      <td>Gue usul harga diturunin. Gue sadar nurunin ha...</td>\n",
       "      <td>gue usul harga diturunin gue sadar nurunin har...</td>\n",
       "    </tr>\n",
       "    <tr>\n",
       "      <th>1</th>\n",
       "      <td>Sat Feb 22 12:21:25 +0000 2025</td>\n",
       "      <td>imloffxr</td>\n",
       "      <td>skrng klo belanja mendi ke toserba njir drpd k...</td>\n",
       "      <td>sekarang klo belanja mendi toserba njir ke alf...</td>\n",
       "    </tr>\n",
       "    <tr>\n",
       "      <th>2</th>\n",
       "      <td>Thu Feb 20 12:43:56 +0000 2025</td>\n",
       "      <td>SyahrulDA2</td>\n",
       "      <td>@Uki23 Siapa bilang barang konsumsi tidak kena...</td>\n",
       "      <td>siapa bilang barang konsumsi kena ppn pabrik k...</td>\n",
       "    </tr>\n",
       "    <tr>\n",
       "      <th>3</th>\n",
       "      <td>Thu Feb 20 00:30:07 +0000 2025</td>\n",
       "      <td>PPNternate</td>\n",
       "      <td>Kunjungan ini bertujuan untuk meninjau fasilit...</td>\n",
       "      <td>kunjung tuju tinjau fasilitas sedia ppn ternat...</td>\n",
       "    </tr>\n",
       "    <tr>\n",
       "      <th>4</th>\n",
       "      <td>Wed Feb 19 22:52:24 +0000 2025</td>\n",
       "      <td>jawapos</td>\n",
       "      <td>Kebijakan pajak pertambahan nilai ditanggung p...</td>\n",
       "      <td>kebijakan pajak tambah nilai tanggung perintah...</td>\n",
       "    </tr>\n",
       "  </tbody>\n",
       "</table>\n",
       "</div>"
      ],
      "text/plain": [
       "                       created_at     username  \\\n",
       "0  Sun Feb 23 01:07:08 +0000 2025  babyportgas   \n",
       "1  Sat Feb 22 12:21:25 +0000 2025     imloffxr   \n",
       "2  Thu Feb 20 12:43:56 +0000 2025   SyahrulDA2   \n",
       "3  Thu Feb 20 00:30:07 +0000 2025   PPNternate   \n",
       "4  Wed Feb 19 22:52:24 +0000 2025      jawapos   \n",
       "\n",
       "                                           full_text  \\\n",
       "0  Gue usul harga diturunin. Gue sadar nurunin ha...   \n",
       "1  skrng klo belanja mendi ke toserba njir drpd k...   \n",
       "2  @Uki23 Siapa bilang barang konsumsi tidak kena...   \n",
       "3  Kunjungan ini bertujuan untuk meninjau fasilit...   \n",
       "4  Kebijakan pajak pertambahan nilai ditanggung p...   \n",
       "\n",
       "                                        cleaned_text  \n",
       "0  gue usul harga diturunin gue sadar nurunin har...  \n",
       "1  sekarang klo belanja mendi toserba njir ke alf...  \n",
       "2  siapa bilang barang konsumsi kena ppn pabrik k...  \n",
       "3  kunjung tuju tinjau fasilitas sedia ppn ternat...  \n",
       "4  kebijakan pajak tambah nilai tanggung perintah...  "
      ]
     },
     "metadata": {},
     "output_type": "display_data"
    }
   ],
   "source": [
    "display(clean_df.head())"
   ]
  },
  {
   "cell_type": "code",
   "execution_count": 9,
   "metadata": {},
   "outputs": [],
   "source": [
    "clean_df.to_csv('data_bersih/cleaned_ppn12%.csv', index=False)"
   ]
  },
  {
   "cell_type": "code",
   "execution_count": null,
   "metadata": {},
   "outputs": [],
   "source": []
  }
 ],
 "metadata": {
  "kernelspec": {
   "display_name": "Python 3",
   "language": "python",
   "name": "python3"
  },
  "language_info": {
   "codemirror_mode": {
    "name": "ipython",
    "version": 3
   },
   "file_extension": ".py",
   "mimetype": "text/x-python",
   "name": "python",
   "nbconvert_exporter": "python",
   "pygments_lexer": "ipython3",
   "version": "3.12.5"
  }
 },
 "nbformat": 4,
 "nbformat_minor": 2
}
