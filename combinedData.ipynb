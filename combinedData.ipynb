{
 "cells": [
  {
   "cell_type": "code",
   "execution_count": 1,
   "metadata": {},
   "outputs": [],
   "source": [
    "import pandas as pd"
   ]
  },
  {
   "cell_type": "code",
   "execution_count": 2,
   "metadata": {},
   "outputs": [],
   "source": [
    "df_tiktok = pd.read_csv('data_bersih/cleaned_tiktok.csv')\n",
    "df_tiktok = df_tiktok.rename(columns={\n",
    "    'uniqueId': 'username',\n",
    "    'createTimeISO':'created_at',\n",
    "    'text':'full_text'\n",
    "}) "
   ]
  },
  {
   "cell_type": "code",
   "execution_count": 3,
   "metadata": {},
   "outputs": [],
   "source": [
    "df_tiktok['created_at'] = pd.to_datetime(\n",
    "    df_tiktok['created_at'],\n",
    "    format='ISO8601',\n",
    "    errors='coerce'\n",
    ")"
   ]
  },
  {
   "cell_type": "code",
   "execution_count": 4,
   "metadata": {},
   "outputs": [],
   "source": [
    "df_twitter = pd.read_csv('data_bersih/cleaned_ppn12%.csv')"
   ]
  },
  {
   "cell_type": "code",
   "execution_count": 5,
   "metadata": {},
   "outputs": [],
   "source": [
    "df_twitter['create_at'] = pd.to_datetime(\n",
    "    df_twitter['created_at'], \n",
    "    format='%Y-%m-%d %H:%M:%S', \n",
    "    errors='coerce'\n",
    ")"
   ]
  },
  {
   "cell_type": "code",
   "execution_count": 6,
   "metadata": {},
   "outputs": [],
   "source": [
    "df_combined = pd.concat([df_tiktok, df_twitter], axis=0)"
   ]
  },
  {
   "cell_type": "code",
   "execution_count": 8,
   "metadata": {},
   "outputs": [],
   "source": [
    "df_combined['created_at'] = pd.to_datetime(df_combined['created_at'], errors='coerce')\n",
    "df_combined['created_at'] = df_combined['created_at'].dt.strftime('%Y-%m-%d %H:%M:%S')"
   ]
  },
  {
   "cell_type": "code",
   "execution_count": 10,
   "metadata": {},
   "outputs": [
    {
     "data": {
      "text/html": [
       "<div>\n",
       "<style scoped>\n",
       "    .dataframe tbody tr th:only-of-type {\n",
       "        vertical-align: middle;\n",
       "    }\n",
       "\n",
       "    .dataframe tbody tr th {\n",
       "        vertical-align: top;\n",
       "    }\n",
       "\n",
       "    .dataframe thead th {\n",
       "        text-align: right;\n",
       "    }\n",
       "</style>\n",
       "<table border=\"1\" class=\"dataframe\">\n",
       "  <thead>\n",
       "    <tr style=\"text-align: right;\">\n",
       "      <th></th>\n",
       "      <th>created_at</th>\n",
       "      <th>username</th>\n",
       "      <th>full_text</th>\n",
       "      <th>cleaned_text</th>\n",
       "    </tr>\n",
       "  </thead>\n",
       "  <tbody>\n",
       "    <tr>\n",
       "      <th>0</th>\n",
       "      <td>2025-01-01 05:06:25</td>\n",
       "      <td>qynxml</td>\n",
       "      <td>bahas PPN mulu bang😂</td>\n",
       "      <td>bahas ppn mulu bang</td>\n",
       "    </tr>\n",
       "    <tr>\n",
       "      <th>1</th>\n",
       "      <td>2025-01-01 08:06:52</td>\n",
       "      <td>wanx2510</td>\n",
       "      <td>kocak lihat dulu PPN apa aja yg naik kocak</td>\n",
       "      <td>kocak lihat dulu ppn apa aja naik kocak</td>\n",
       "    </tr>\n",
       "    <tr>\n",
       "      <th>2</th>\n",
       "      <td>2025-01-01 08:34:58</td>\n",
       "      <td>_pinooorgil_</td>\n",
       "      <td>ppn 12% gk jadi. coba liat vt gerindra</td>\n",
       "      <td>ppn 12 jadi coba liat vt gerindra</td>\n",
       "    </tr>\n",
       "    <tr>\n",
       "      <th>3</th>\n",
       "      <td>2025-01-01 11:20:11</td>\n",
       "      <td>rotimanis80</td>\n",
       "      <td>Permasalahannya dari dulu soal tapera segala m...</td>\n",
       "      <td>masalah dulu soal tapera segala macem kan perc...</td>\n",
       "    </tr>\n",
       "    <tr>\n",
       "      <th>4</th>\n",
       "      <td>2025-01-01 14:14:35</td>\n",
       "      <td>galangrajaiblis</td>\n",
       "      <td>gw beli pulsa 120k yang masuk cmn 118k itu ken...</td>\n",
       "      <td>beli pulsa 120k masuk cmn 118k kena ppn bagaim...</td>\n",
       "    </tr>\n",
       "    <tr>\n",
       "      <th>...</th>\n",
       "      <td>...</td>\n",
       "      <td>...</td>\n",
       "      <td>...</td>\n",
       "      <td>...</td>\n",
       "    </tr>\n",
       "    <tr>\n",
       "      <th>1275</th>\n",
       "      <td>2025-01-13 14:07:14</td>\n",
       "      <td>AaBay81</td>\n",
       "      <td>PKS mlempem setelah dukung prabowo ️ PKS tetep...</td>\n",
       "      <td>pks mlempem dukung prabowo pks tetep kritis be...</td>\n",
       "    </tr>\n",
       "    <tr>\n",
       "      <th>1276</th>\n",
       "      <td>2025-01-11 02:33:32</td>\n",
       "      <td>jihandzahab</td>\n",
       "      <td>Semua orang udah pasti bayar PPN. Mau ape lo?</td>\n",
       "      <td>semua orang udah bayar ppn mau ape kamu</td>\n",
       "    </tr>\n",
       "    <tr>\n",
       "      <th>1277</th>\n",
       "      <td>2025-01-10 09:42:16</td>\n",
       "      <td>zirbluu</td>\n",
       "      <td>@dewimaysaa @karimasoyou pas tolak ppn 12% ram...</td>\n",
       "      <td>pas tolak ppn 12 rame tiktok pernah komen oke ...</td>\n",
       "    </tr>\n",
       "    <tr>\n",
       "      <th>1278</th>\n",
       "      <td>2025-01-09 16:19:12</td>\n",
       "      <td>olivtwins</td>\n",
       "      <td>rosie my honney maaf kalo akun aku ini tidak m...</td>\n",
       "      <td>rosie my honney maaf kalau akun aku tidak cerm...</td>\n",
       "    </tr>\n",
       "    <tr>\n",
       "      <th>1279</th>\n",
       "      <td>2025-01-09 16:00:17</td>\n",
       "      <td>toonderellara</td>\n",
       "      <td>WKWK WMNYA RASHTA ANJRIT GANGGU BANGET keknya ...</td>\n",
       "      <td>wkwk wmnya rashta anjing ganggu banget kek kem...</td>\n",
       "    </tr>\n",
       "  </tbody>\n",
       "</table>\n",
       "<p>1432 rows × 4 columns</p>\n",
       "</div>"
      ],
      "text/plain": [
       "               created_at         username  \\\n",
       "0     2025-01-01 05:06:25           qynxml   \n",
       "1     2025-01-01 08:06:52         wanx2510   \n",
       "2     2025-01-01 08:34:58     _pinooorgil_   \n",
       "3     2025-01-01 11:20:11      rotimanis80   \n",
       "4     2025-01-01 14:14:35  galangrajaiblis   \n",
       "...                   ...              ...   \n",
       "1275  2025-01-13 14:07:14          AaBay81   \n",
       "1276  2025-01-11 02:33:32      jihandzahab   \n",
       "1277  2025-01-10 09:42:16          zirbluu   \n",
       "1278  2025-01-09 16:19:12        olivtwins   \n",
       "1279  2025-01-09 16:00:17    toonderellara   \n",
       "\n",
       "                                              full_text  \\\n",
       "0                                  bahas PPN mulu bang😂   \n",
       "1            kocak lihat dulu PPN apa aja yg naik kocak   \n",
       "2                ppn 12% gk jadi. coba liat vt gerindra   \n",
       "3     Permasalahannya dari dulu soal tapera segala m...   \n",
       "4     gw beli pulsa 120k yang masuk cmn 118k itu ken...   \n",
       "...                                                 ...   \n",
       "1275  PKS mlempem setelah dukung prabowo ️ PKS tetep...   \n",
       "1276     Semua orang udah pasti bayar PPN. Mau ape lo?    \n",
       "1277  @dewimaysaa @karimasoyou pas tolak ppn 12% ram...   \n",
       "1278  rosie my honney maaf kalo akun aku ini tidak m...   \n",
       "1279  WKWK WMNYA RASHTA ANJRIT GANGGU BANGET keknya ...   \n",
       "\n",
       "                                           cleaned_text  \n",
       "0                                   bahas ppn mulu bang  \n",
       "1               kocak lihat dulu ppn apa aja naik kocak  \n",
       "2                     ppn 12 jadi coba liat vt gerindra  \n",
       "3     masalah dulu soal tapera segala macem kan perc...  \n",
       "4     beli pulsa 120k masuk cmn 118k kena ppn bagaim...  \n",
       "...                                                 ...  \n",
       "1275  pks mlempem dukung prabowo pks tetep kritis be...  \n",
       "1276            semua orang udah bayar ppn mau ape kamu  \n",
       "1277  pas tolak ppn 12 rame tiktok pernah komen oke ...  \n",
       "1278  rosie my honney maaf kalau akun aku tidak cerm...  \n",
       "1279  wkwk wmnya rashta anjing ganggu banget kek kem...  \n",
       "\n",
       "[1432 rows x 4 columns]"
      ]
     },
     "metadata": {},
     "output_type": "display_data"
    }
   ],
   "source": [
    "display(df_combined[['created_at', 'username', 'full_text', 'cleaned_text']])"
   ]
  },
  {
   "cell_type": "code",
   "execution_count": 12,
   "metadata": {},
   "outputs": [],
   "source": [
    "df_combined.to_csv('combined_data/data_gabungan_twitter_tiktok.csv', index=False)"
   ]
  },
  {
   "cell_type": "code",
   "execution_count": null,
   "metadata": {},
   "outputs": [],
   "source": []
  }
 ],
 "metadata": {
  "kernelspec": {
   "display_name": "Python 3",
   "language": "python",
   "name": "python3"
  },
  "language_info": {
   "codemirror_mode": {
    "name": "ipython",
    "version": 3
   },
   "file_extension": ".py",
   "mimetype": "text/x-python",
   "name": "python",
   "nbconvert_exporter": "python",
   "pygments_lexer": "ipython3",
   "version": "3.12.5"
  }
 },
 "nbformat": 4,
 "nbformat_minor": 2
}
