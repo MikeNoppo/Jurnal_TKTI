{
 "cells": [
  {
   "cell_type": "code",
   "execution_count": 2,
   "metadata": {},
   "outputs": [],
   "source": [
    "import pandas as pd\n",
    "import re\n",
    "from Sastrawi.StopWordRemover.StopWordRemoverFactory import StopWordRemoverFactory\n",
    "from Sastrawi.Stemmer.StemmerFactory import StemmerFactory\n",
    "import emoji"
   ]
  },
  {
   "cell_type": "code",
   "execution_count": null,
   "metadata": {},
   "outputs": [],
   "source": [
    "df = pd.read_csv('tiktok/komen_tiktok_kotor.csv')"
   ]
  },
  {
   "cell_type": "markdown",
   "metadata": {},
   "source": [
    "# Kamus Slang Indonesia dan steaming word"
   ]
  },
  {
   "cell_type": "code",
   "execution_count": null,
   "metadata": {},
   "outputs": [],
   "source": [
    "slang_dict = {\n",
    "    \"@\": \"di\", \"abis\": \"habis\", \"ad\": \"ada\", \"adlh\": \"adalah\", \"afaik\": \"as far as i know\", \"ahaha\": \"haha\", \"aj\": \"saja\", \n",
    "    \"ajep-ajep\": \"dunia gemerlap\", \"ak\": \"saya\", \"akika\": \"aku\", \"akkoh\": \"aku\", \"akuwh\": \"aku\", \"alay\": \"norak\", \"alow\": \"halo\", \n",
    "    \"ambilin\": \"ambilkan\", \"ancur\": \"hancur\", \"anjrit\": \"anjing\", \"anter\": \"antar\", \"ap2\": \"apa-apa\", \"apasih\": \"apa sih\", \"apes\": \"sial\", \n",
    "    \"aps\": \"apa\", \"aq\": \"saya\", \"aquwh\": \"aku\", \"asbun\": \"asal bunyi\", \"aseekk\": \"asyik\", \"asekk\": \"asyik\", \"asem\": \"asam\",\"dlm\":\"dalam\",\n",
    "    \"aspal\": \"asli tetapi palsu\", \"astul\": \"asal tulis\", \"ato\": \"atau\", \"au ah\": \"tidak mau tahu\", \"awak\": \"saya\", \"ay\": \"sayang\", \"ayank\": \"sayang\", \n",
    "    \"b4\": \"sebelum\", \"bakalan\": \"akan\", \"bandes\": \"bantuan desa\", \"bangedh\": \"banget\", \"banpol\": \"bantuan polisi\", \"banpur\": \"bantuan tempur\", \n",
    "    \"basbang\": \"basi\", \"bcanda\": \"bercanda\", \"bdg\": \"bandung\", \"begajulan\": \"nakal\", \"beliin\": \"belikan\", \"bencong\": \"banci\", \"bentar\": \"sebentar\", \n",
    "    \"ber3\": \"bertiga\", \"beresin\": \"membereskan\", \"bete\": \"bosan\", \"beud\": \"banget\", \"bg\": \"abang\", \"bgmn\": \"bagaimana\", \"bgt\": \"banget\", \"bijimane\": \n",
    "    \"bagaimana\", \"bintal\": \"bimbingan mental\", \"bkl\": \"akan\", \"bknnya\": \"bukannya\", \"blegug\": \"bodoh\", \"blh\": \"boleh\", \"bln\": \"bulan\", \"blum\": \"belum\", \n",
    "    \"bnci\": \"benci\", \"bnran\": \"yang benar\", \"bodor\": \"lucu\", \"bokap\": \"ayah\", \"boker\": \"buang air besar\", \"bokis\": \"bohong\", \"boljug\": \"boleh juga\", \n",
    "    \"bonek\": \"bocah nekat\", \"boyeh\": \"boleh\", \"br\": \"baru\", \"brg\": \"bareng\", \"bro\": \"saudara laki-laki\", \"bru\": \"baru\", \"bs\": \"bisa\", \"bsen\": \"bosan\", \n",
    "    \"bt\": \"buat\", \"btw\": \"ngomong-ngomong\", \"buaya\": \"tidak setia\", \"bubbu\": \"tidur\", \"bubu\": \"tidur\", \"bumil\": \"ibu hamil\", \"bw\": \"bawa\", \"bwt\": \"buat\", \n",
    "    \"byk\": \"banyak\", \"byrin\": \"bayarkan\", \"cabal\": \"sabar\", \"cadas\": \"keren\", \"calo\": \"makelar\", \"can\": \"belum\", \"capcus\": \"pergi\", \"caper\": \"cari perhatian\", \n",
    "    \"Blm\": \"belum\", \"Gw\":\"saya\", \"lo\": \"kamu\",\"Gak\": \"tidak\",\"bae\":\"saja\",\"ttg\":\"tentang\",\"drmana\":\"darimana\",\"dri\":\"dari\",\"skrng\":\"sekarang\",\"kyk\":\"kayak\",\"yutub\":\"youtube\",\"gmn\":\"gimana\",\"udh\":\"udah\",\"mslhnya\":\"masalahnya\",\"yg\":\"yang\",\n",
    "    \"ce\": \"cewek\", \"cekal\": \"cegah tangkal\", \"cemen\": \"penakut\", \"cengengesan\": \"tertawa\", \"cepet\": \"cepat\", \"cew\": \"cewek\", \"chuyunk\": \"sayang\", \"cimeng\": \"ganja\", \"cipika cipiki\": \"cium pipi kanan cium pipi kiri\", \"ciyh\": \"sih\", \"ckepp\": \"cakep\", \n",
    "    \"ckp\": \"cakep\", \"cmiiw\": \"correct me if i'm wrong\", \"cmpur\": \"campur\", \"cong\": \"banci\", \"conlok\": \"cinta lokasi\", \"cowwyy\": \"maaf\", \"cp\": \"siapa\", \"cpe\": \"capek\", \"cppe\": \"capek\", \"cucok\": \"cocok\", \"cuex\": \"cuek\", \"cumi\": \"Cuma miscall\", \"cups\": \"culun\", \"curanmor\": \"pencurian kendaraan bermotor\", \"curcol\": \"curahan hati colongan\", \"cwek\": \"cewek\", \"cyin\": \"cinta\", \"d\": \"di\", \"dah\": \"deh\", \"dapet\": \"dapat\", \"de\": \"adik\", \"dek\": \"adik\", \"demen\": \"suka\", \"deyh\": \"deh\", \"dgn\": \"dengan\", \"diancurin\": \"dihancurkan\", \"dimaafin\": \"dimaafkan\", \"dimintak\": \"diminta\", \"disono\": \"di sana\", \"dket\": \"dekat\", \"dkk\": \"dan kawan-kawan\", \"dll\": \"dan lain-lain\", \"dlu\": \"dulu\", \"dngn\": \"dengan\", \"dodol\": \"bodoh\", \"doku\": \"uang\", \"dongs\": \"dong\", \"dpt\": \"dapat\", \"dri\": \"dari\", \"drmn\": \"darimana\", \"drtd\": \"dari tadi\", \"dst\": \"dan seterusnya\", \"dtg\": \"datang\", \"duh\": \"aduh\", \"duren\": \"durian\", \"ed\": \"edisi\", \"egp\": \"emang gue pikirin\", \"eke\": \"aku\", \"elu\": \"kamu\", \"emangnya\": \"memangnya\", \"emng\": \"memang\", \"endak\": \"tidak\", \"enggak\": \"tidak\", \"envy\": \"iri\", \"ex\": \"mantan\", \"fax\": \"facsimile\", \"fifo\": \"first in first out\", \"folbek\": \"follow back\", \"fyi\": \"sebagai informasi\", \"gaada\": \"tidak ada uang\", \"gag\": \"tidak\", \"gaje\": \"tidak jelas\", \"gak papa\": \"tidak apa-apa\", \"gan\": \"juragan\", \"gaptek\": \"gagap teknologi\", \"gatek\": \"gagap teknologi\", \"gawe\": \"kerja\", \"gbs\": \"tidak bisa\", \"gebetan\": \"orang yang disuka\", \"geje\": \"tidak jelas\", \n",
    "    \"gepeng\": \"gelandangan dan pengemis\", \"ghiy\": \"lagi\", \"gile\": \"gila\", \"gimana\": \"bagaimana\", \"gino\": \"gigi nongol\", \"githu\": \"gitu\", \"gj\": \"tidak jelas\", \"gmana\": \"bagaimana\", \"gn\": \"begini\", \"goblok\": \"bodoh\", \"golput\": \"golongan putih\", \"gowes\": \"mengayuh sepeda\", \"gpny\": \"tidak punya\", \"gr\": \"gede rasa\", \"gretongan\": \"gratisan\", \"gtau\": \"tidak tahu\", \"gua\": \"saya\", \"guoblok\": \"goblok\", \"gw\": \"saya\", \"ha\": \"tertawa\", \"haha\": \"tertawa\", \"hallow\": \"halo\", \"hankam\": \"pertahanan dan keamanan\", \"hehe\": \"he\", \"helo\": \"halo\", \"hey\": \"hai\", \"hlm\": \"halaman\", \"hny\": \"hanya\", \"hoax\": \"isu bohong\", \"hr\": \"hari\", \"hrus\": \"harus\", \"hubdar\": \"perhubungan darat\", \"huff\": \"mengeluh\", \"hum\": \"rumah\", \"humz\": \"rumah\", \"ilang\": \"hilang\", \"ilfil\": \"tidak suka\", \"imho\": \"in my humble opinion\", \"imoetz\": \"imut\", \"item\": \"hitam\", \"itungan\": \"hitungan\", \"iye\": \"iya\", \"ja\": \"saja\", \"jadiin\": \"jadi\", \"jaim\": \"jaga image\", \"jayus\": \"tidak lucu\", \"jdi\": \"jadi\", \"jem\": \"jam\", \"jga\": \"juga\", \"jgnkan\": \"jangankan\", \"jir\": \"anjing\", \"jln\": \"jalan\", \"jomblo\": \"tidak punya pacar\", \"jubir\": \"juru bicara\", \"jutek\": \"galak\", \"k\": \"ke\", \"kab\": \"kabupaten\", \"kabor\": \"kabur\", \"kacrut\": \"kacau\", \"kadiv\": \"kepala divisi\", \"kagak\": \"tidak\", \"kalo\": \"kalau\", \"kampret\": \"sialan\", \"kamtibmas\": \"keamanan dan ketertiban masyarakat\", \"kamuwh\": \"kamu\", \"kanwil\": \"kantor wilayah\", \"karna\": \"karena\", \"kasubbag\": \"kepala subbagian\", \"katrok\": \"kampungan\", \"kayanya\": \n",
    "    \"kayaknya\",\"wkwkw\": \"[tertawa]\", \"drpd\": \"daripada\", \"ndasmu\": \"[sensor]\", \"kg\": \"kilogram\",\"th\": \"tahun\", \"3t\": \"3T\",\"trs\":\"terus\",\"gk\":\"tidak\",\"gpp\":\"tidak apa-apa\",\"gmn\":\"bagaimana\",\n",
    "\n",
    "    \"ajg\":\"anjing\",\n",
    "\n",
    "    #sensor kata kasar\n",
    "    \"ndasmu\":\"[sensor]\", \"anjing\": \"[sensor]\", \"bangsat\": \"[sensor]\"\n",
    "}"
   ]
  },
  {
   "cell_type": "code",
   "execution_count": 6,
   "metadata": {},
   "outputs": [],
   "source": [
    "lemmatization_dict = {\n",
    "    \"didik\": \"pendidikan\", \"bijak\": \"kebijakan\", \"layan\": \"layanan\",\n",
    "    \"jangkau\": \"terjangkau\", \"menteri\": \"menteri\", \"kritisi\": \"kritik\",\"anggar\" : \"anggaran\",\"kendara\":\"kendaraan\",\"jabat\":\"penjabat\"\n",
    "}\n",
    "\n",
    "technical_terms = {\n",
    "    \"pph\": \"pajak_penghasilan\", \"bruto\": \"bruto\", \"angkutan\": \"angkutan\",\n",
    "    \"pasal 15\": \"pasal_15\", \"penghasilan\": \"penghasilan\", \"jasa\": \"jasa\",\n",
    "    \"laut\": \"laut\", \"logistik\": \"logistik\", \"nasional\": \"nasional\",\n",
    "}\n"
   ]
  },
  {
   "cell_type": "markdown",
   "metadata": {},
   "source": [
    "# Preprocessing data"
   ]
  },
  {
   "cell_type": "code",
   "execution_count": 7,
   "metadata": {},
   "outputs": [],
   "source": [
    "def clean_data(text):\n",
    "    try:\n",
    "        text = text.lower()\n",
    "\n",
    "        text = re.sub(r'http\\S+|www\\S+|https\\S+', '', text, flags=re.MULTILINE)\n",
    "        text = re.sub(r'@\\w+', '', text)\n",
    "        text = re.sub(r'#\\w+', '', text)\n",
    "    \n",
    "        text = re.sub(\n",
    "            r'(?i)\\bppn\\s*12\\s*%+\\b',  # Pola regex untuk semua variasi\n",
    "            'ppn12_persen ', \n",
    "            text\n",
    "        )\n",
    "\n",
    "        text = re.sub(r'[^\\w\\s]', ' ', text)\n",
    "\n",
    "        text = emoji.demojize(text, delimiters=(\"[\", \"]\"))\n",
    "\n",
    "        words = text.split()\n",
    "        text = ' '.join([slang_dict[word] if word in slang_dict else word for word in words])\n",
    "\n",
    "        text = re.sub(r'\\b(ga|gak|ngga|tdk)\\s+', r'tidak_', text)\n",
    "\n",
    "        factory = StopWordRemoverFactory()\n",
    "        stopword = factory.create_stop_word_remover()\n",
    "        text = stopword.remove(text)\n",
    "\n",
    "        technical_terms.update({\"ppn12_persen\": \"ppn12_persen\"})\n",
    "        for term, replacement in technical_terms.items():\n",
    "            text = re.sub(r'\\b' + re.escape(term) + r'\\b', replacement, text)\n",
    "\n",
    "        factory = StemmerFactory()\n",
    "        stemmer = factory.create_stemmer()\n",
    "        words = text.split()\n",
    "        cleaned_words = []\n",
    "        for word in words:\n",
    "            if word in technical_terms.values():\n",
    "                cleaned_words.append(word)\n",
    "            else:\n",
    "                cleaned_words.append(stemmer.stem(word))\n",
    "        text = ' '.join(cleaned_words)\n",
    "\n",
    "        words = text.split()\n",
    "        text = ' '.join([lemmatization_dict[word] if word in lemmatization_dict else word for word in words])\n",
    "\n",
    "        text = re.sub(r'\\s+', ' ', text).strip()\n",
    "        return text\n",
    "\n",
    "    except:\n",
    "        return \"[error]\""
   ]
  },
  {
   "cell_type": "code",
   "execution_count": 8,
   "metadata": {},
   "outputs": [],
   "source": [
    "df['cleaned_text'] = df['text'].apply(clean_data)"
   ]
  },
  {
   "cell_type": "code",
   "execution_count": 9,
   "metadata": {},
   "outputs": [],
   "source": [
    "clean_df = df[['uniqueId', 'createTimeISO', 'text', 'cleaned_text']]"
   ]
  },
  {
   "cell_type": "code",
   "execution_count": 10,
   "metadata": {},
   "outputs": [
    {
     "data": {
      "text/html": [
       "<div>\n",
       "<style scoped>\n",
       "    .dataframe tbody tr th:only-of-type {\n",
       "        vertical-align: middle;\n",
       "    }\n",
       "\n",
       "    .dataframe tbody tr th {\n",
       "        vertical-align: top;\n",
       "    }\n",
       "\n",
       "    .dataframe thead th {\n",
       "        text-align: right;\n",
       "    }\n",
       "</style>\n",
       "<table border=\"1\" class=\"dataframe\">\n",
       "  <thead>\n",
       "    <tr style=\"text-align: right;\">\n",
       "      <th></th>\n",
       "      <th>uniqueId</th>\n",
       "      <th>createTimeISO</th>\n",
       "      <th>text</th>\n",
       "      <th>cleaned_text</th>\n",
       "    </tr>\n",
       "  </thead>\n",
       "  <tbody>\n",
       "    <tr>\n",
       "      <th>0</th>\n",
       "      <td>qynxml</td>\n",
       "      <td>2025-01-01T05:06:25.000Z</td>\n",
       "      <td>bahas PPN mulu bang😂</td>\n",
       "      <td>bahas ppn mulu bang</td>\n",
       "    </tr>\n",
       "    <tr>\n",
       "      <th>1</th>\n",
       "      <td>wanx2510</td>\n",
       "      <td>2025-01-01T08:06:52.000Z</td>\n",
       "      <td>kocak lihat dulu PPN apa aja yg naik kocak</td>\n",
       "      <td>kocak lihat dulu ppn apa aja naik kocak</td>\n",
       "    </tr>\n",
       "    <tr>\n",
       "      <th>2</th>\n",
       "      <td>_pinooorgil_</td>\n",
       "      <td>2025-01-01T08:34:58.000Z</td>\n",
       "      <td>ppn 12% gk jadi. coba liat vt gerindra</td>\n",
       "      <td>ppn 12 gk jadi coba liat vt gerindra</td>\n",
       "    </tr>\n",
       "    <tr>\n",
       "      <th>3</th>\n",
       "      <td>rotimanis80</td>\n",
       "      <td>2025-01-01T11:20:11.000Z</td>\n",
       "      <td>Permasalahannya dari dulu soal tapera segala m...</td>\n",
       "      <td>masalah dulu soal tapera segala macem kan perc...</td>\n",
       "    </tr>\n",
       "    <tr>\n",
       "      <th>4</th>\n",
       "      <td>galangrajaiblis</td>\n",
       "      <td>2025-01-01T14:14:35.000Z</td>\n",
       "      <td>gw beli pulsa 120k yang masuk cmn 118k itu ken...</td>\n",
       "      <td>beli pulsa 120k masuk cmn 118k kena ppn gimana...</td>\n",
       "    </tr>\n",
       "  </tbody>\n",
       "</table>\n",
       "</div>"
      ],
      "text/plain": [
       "          uniqueId             createTimeISO  \\\n",
       "0           qynxml  2025-01-01T05:06:25.000Z   \n",
       "1         wanx2510  2025-01-01T08:06:52.000Z   \n",
       "2     _pinooorgil_  2025-01-01T08:34:58.000Z   \n",
       "3      rotimanis80  2025-01-01T11:20:11.000Z   \n",
       "4  galangrajaiblis  2025-01-01T14:14:35.000Z   \n",
       "\n",
       "                                                text  \\\n",
       "0                               bahas PPN mulu bang😂   \n",
       "1         kocak lihat dulu PPN apa aja yg naik kocak   \n",
       "2             ppn 12% gk jadi. coba liat vt gerindra   \n",
       "3  Permasalahannya dari dulu soal tapera segala m...   \n",
       "4  gw beli pulsa 120k yang masuk cmn 118k itu ken...   \n",
       "\n",
       "                                        cleaned_text  \n",
       "0                                bahas ppn mulu bang  \n",
       "1            kocak lihat dulu ppn apa aja naik kocak  \n",
       "2               ppn 12 gk jadi coba liat vt gerindra  \n",
       "3  masalah dulu soal tapera segala macem kan perc...  \n",
       "4  beli pulsa 120k masuk cmn 118k kena ppn gimana...  "
      ]
     },
     "metadata": {},
     "output_type": "display_data"
    }
   ],
   "source": [
    "display(clean_df.head())"
   ]
  },
  {
   "cell_type": "code",
   "execution_count": 11,
   "metadata": {},
   "outputs": [],
   "source": [
    "clean_df.to_csv('data_bersih/cleaned_tiktok.csv', index=False)"
   ]
  }
 ],
 "metadata": {
  "kernelspec": {
   "display_name": "Python 3",
   "language": "python",
   "name": "python3"
  },
  "language_info": {
   "codemirror_mode": {
    "name": "ipython",
    "version": 3
   },
   "file_extension": ".py",
   "mimetype": "text/x-python",
   "name": "python",
   "nbconvert_exporter": "python",
   "pygments_lexer": "ipython3",
   "version": "3.12.5"
  }
 },
 "nbformat": 4,
 "nbformat_minor": 2
}
