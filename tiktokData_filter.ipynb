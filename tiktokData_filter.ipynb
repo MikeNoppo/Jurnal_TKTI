{
 "cells": [
  {
   "cell_type": "code",
   "execution_count": 1,
   "metadata": {},
   "outputs": [],
   "source": [
    "import pandas as pd"
   ]
  },
  {
   "cell_type": "code",
   "execution_count": 5,
   "metadata": {},
   "outputs": [
    {
     "data": {
      "text/html": [
       "<div>\n",
       "<style scoped>\n",
       "    .dataframe tbody tr th:only-of-type {\n",
       "        vertical-align: middle;\n",
       "    }\n",
       "\n",
       "    .dataframe tbody tr th {\n",
       "        vertical-align: top;\n",
       "    }\n",
       "\n",
       "    .dataframe thead th {\n",
       "        text-align: right;\n",
       "    }\n",
       "</style>\n",
       "<table border=\"1\" class=\"dataframe\">\n",
       "  <thead>\n",
       "    <tr style=\"text-align: right;\">\n",
       "      <th></th>\n",
       "      <th>uniqueId</th>\n",
       "      <th>createTimeISO</th>\n",
       "      <th>text</th>\n",
       "    </tr>\n",
       "  </thead>\n",
       "  <tbody>\n",
       "    <tr>\n",
       "      <th>3</th>\n",
       "      <td>orpolarbear</td>\n",
       "      <td>2025-01-04T11:29:27.000Z</td>\n",
       "      <td>ya gimana ya, koreksi ppn aja mepet banget di ...</td>\n",
       "    </tr>\n",
       "    <tr>\n",
       "      <th>4</th>\n",
       "      <td>aa__jkt89</td>\n",
       "      <td>2025-01-04T11:20:24.000Z</td>\n",
       "      <td>indosat min uda minta aja ppn 12% padahal masi...</td>\n",
       "    </tr>\n",
       "    <tr>\n",
       "      <th>6</th>\n",
       "      <td>liecinyang</td>\n",
       "      <td>2025-01-04T15:26:28.000Z</td>\n",
       "      <td>PPn Uda naik buktinya sistem pajak Uda dibuat ...</td>\n",
       "    </tr>\n",
       "    <tr>\n",
       "      <th>10</th>\n",
       "      <td>wiwindut456</td>\n",
       "      <td>2025-01-04T16:04:21.000Z</td>\n",
       "      <td>belanja bulanan struk tulisannya PPN 11% tapi ...</td>\n",
       "    </tr>\n",
       "    <tr>\n",
       "      <th>19</th>\n",
       "      <td>user2dhrs6rl6j</td>\n",
       "      <td>2025-01-04T12:23:36.000Z</td>\n",
       "      <td>benar terjadi, tadi siang beli soto betawi lew...</td>\n",
       "    </tr>\n",
       "  </tbody>\n",
       "</table>\n",
       "</div>"
      ],
      "text/plain": [
       "          uniqueId             createTimeISO  \\\n",
       "3      orpolarbear  2025-01-04T11:29:27.000Z   \n",
       "4        aa__jkt89  2025-01-04T11:20:24.000Z   \n",
       "6       liecinyang  2025-01-04T15:26:28.000Z   \n",
       "10     wiwindut456  2025-01-04T16:04:21.000Z   \n",
       "19  user2dhrs6rl6j  2025-01-04T12:23:36.000Z   \n",
       "\n",
       "                                                 text  \n",
       "3   ya gimana ya, koreksi ppn aja mepet banget di ...  \n",
       "4   indosat min uda minta aja ppn 12% padahal masi...  \n",
       "6   PPn Uda naik buktinya sistem pajak Uda dibuat ...  \n",
       "10  belanja bulanan struk tulisannya PPN 11% tapi ...  \n",
       "19  benar terjadi, tadi siang beli soto betawi lew...  "
      ]
     },
     "execution_count": 5,
     "metadata": {},
     "output_type": "execute_result"
    }
   ],
   "source": [
    "# Load the data\n",
    "df = pd.read_csv('tiktok/dataset_tiktok-comments.csv')\n",
    "\n",
    "# Filter the DataFrame\n",
    "keywords = ['PPN', 'ppn', 'ppn12%', 'ppn 12%','PPN 12%', 'ppn 12 %', 'ppn 12%', 'ppn 12', 'ppn12', 'ppn12 %', 'ppn12%', 'ppn 12', 'ppn 12 %', 'ppn 12%']\n",
    "filtered_df = df[df['text'].str.contains('|'.join(keywords), case=False, na=False)]\n",
    "\n",
    "# Save the filtered DataFrame to a new CSV file\n",
    "filtered_df.to_csv('filtered_tiktok_data.csv', index=False)\n",
    "\n",
    "filtered_df.head()  # Display the first few rows of the filtered DataFrame"
   ]
  },
  {
   "cell_type": "code",
   "execution_count": null,
   "metadata": {},
   "outputs": [],
   "source": []
  }
 ],
 "metadata": {
  "kernelspec": {
   "display_name": "Python 3",
   "language": "python",
   "name": "python3"
  },
  "language_info": {
   "codemirror_mode": {
    "name": "ipython",
    "version": 3
   },
   "file_extension": ".py",
   "mimetype": "text/x-python",
   "name": "python",
   "nbconvert_exporter": "python",
   "pygments_lexer": "ipython3",
   "version": "3.12.5"
  }
 },
 "nbformat": 4,
 "nbformat_minor": 2
}
